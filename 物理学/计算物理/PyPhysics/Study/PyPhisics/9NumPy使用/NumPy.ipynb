{
 "cells": [
  {
   "cell_type": "markdown",
   "source": [
    "# 9 NumPy：以数组的形式思考\n",
    "\n",
    "从本质上说，大部分计算物理方面的问题都是在处理数组。从物理学角度来看，数组能够自然地描述数值和离散问题。\n",
    "对数组的操作可用来表示或模拟微积分操作。\n",
    "从软件的角度来看，数组是一块连续的内存，其中的每个元素必须拥有相同的类型和内存布局。\n",
    "从物理和计算这\n",
    "两方面来看，数组紧凑、美观，且有用。\n",
    "\n",
    "每个侧重科学计算的编程语言都含有数组数据语言的概念，要么是内置到语言和核心组件中，要么作为第三方库提供。\n",
    "数组数据语言增加的相关语义，实际上处理的是一串连续的bit位。\n",
    "\n",
    "NumPy合并自Python早期两个竞争的数组数据语言，分别是Numeric和Numarray。\n",
    "NumPy既能处理C格式的数组，也能处理Fortran格式的数组，还为来自Python外部的数据提供了一种交换格式。\n",
    "\n",
    "## 9.1 数组\n",
    "\n",
    "**基本类型：N维数组类ndarray。**\n",
    "通过NumPy提供的array()函数初始化。\n",
    "arange() 函数:3个参数为起始值、终止值、步长，和range()函数完全相同，只是该函数返回的是一个ndarray。\n",
    "zeros()：以一个整数或整数元组作为参数，参数作为shape生成并返\n",
    "回一个ndarray，其中的元素全为0。\n",
    "ones()：以一个整数或整数元组作为参数，该参数作为shape生成并返\n",
    "回一个ndarray，其中的元素全为1。\n",
    "empty()：只分配一段内存，但不对该内存赋值。适用于载入已有数据\n",
    "linspace()：等比数列。\n",
    "logspace()：等差数列。\n",
    "\n",
    "迭代器、HDF5文件、CSV文件、特殊的NumPy二进制文件格式（*.npy）这些不同类型的数据中创建数组的方法参阅NumPy文档。\n",
    "[NumPy官方文档](https://numpy.org.cn/)"
   ],
   "metadata": {
    "collapsed": false
   }
  },
  {
   "cell_type": "code",
   "execution_count": 4,
   "outputs": [],
   "source": [
    "# 包引用\n",
    "import numpy as np"
   ],
   "metadata": {
    "collapsed": false,
    "ExecuteTime": {
     "end_time": "2023-07-12T03:33:32.767355200Z",
     "start_time": "2023-07-12T03:33:32.740353900Z"
    }
   }
  },
  {
   "cell_type": "code",
   "execution_count": null,
   "outputs": [],
   "source": [
    "arr1 = np.array([6, 28, 496, 8128])\n",
    "print(arr1)\n",
    "\n",
    "arr2 = np.arange(6)\n",
    "print(arr2)\n",
    "\n",
    "arr3 = np.zeros(4)\n",
    "print(arr3)\n",
    "\n",
    "arr4 = np.ones((2, 3))\n",
    "print(arr4)\n",
    "\n",
    "arr5 = np.empty(4)\n",
    "print(arr5)\n",
    "\n",
    "arr6 = np.linspace(1, 2, 5)\n",
    "print(arr6)\n",
    "\n",
    "arr7 = np.logspace(1, -1, 3)\n",
    "print(arr7)"
   ],
   "metadata": {
    "collapsed": false
   }
  },
  {
   "cell_type": "markdown",
   "source": [
    "ndarray类能够非常高效地表示一个固定大小的内存块，以及与表示数组属性的元数据。\n",
    "\n",
    "**重要的ndarray属性**\n",
    "\n",
    "| 属性       | 描述                                |\n",
    "|----------|-----------------------------------|\n",
    "| data     | 原始数组数据的内存缓冲区                      |\n",
    "| dtype    | 数据的类型信息                           |\n",
    "| base     | 存储数据的数组指针，如果没有存储数据则为None          |\n",
    "| ndim     | 维数（类型为int）                        |\n",
    "| shape    | 整数元组，表示每个维数的长度，元组长度为ndim          |\n",
    "| size     | 元素的个数（类型为int），等于shape中元素的乘积       |\n",
    "| itemsize | 每个元素占用的字节数（类型为int）                |\n",
    "| nbytes   | 字节的个数（类型为int），等于size乘以itemsize    |\n",
    "| strides  | 同一个轴上相邻元素之间的字节数（类型是int元组，长度为ndim） |\n",
    "| flags    | 一些底层的内存信息                         |\n",
    "\n"
   ],
   "metadata": {
    "collapsed": false
   }
  },
  {
   "cell_type": "code",
   "execution_count": null,
   "outputs": [],
   "source": [
    "# 改变数组形状\n",
    "arr = np.arange(0, 12, 1)\n",
    "print(\"shape前：\\n\", arr)\n",
    "arr.shape = (3, 4) # 通过修改shape参数改变形状\n",
    "print(\"shape后：\\n\", arr)\n",
    "arr.reshape(2, 6) # 通过reshape()直接改变形状\n",
    "print(\"reshape后：\\n\", arr)"
   ],
   "metadata": {
    "collapsed": false
   }
  },
  {
   "cell_type": "markdown",
   "source": [
    "## 9.2 dtype属性\n",
    "\n",
    "dtype（data type）是最重要的ndarray属性。\n",
    "专注于数字类型，具有基于抽象类型（如整数和浮点数据）的层次结构。\n",
    "每个抽象类型含有以bit为单位表示的默认大小。\n",
    "\n",
    "所有dtype在内存中的大小必须是常量。包括字符串。\n",
    "**目的**：让数组作为一个整体时可以计算其中的不同属性。\n",
    "\n",
    "dtype都有字符串字符代码，用来方便地指明类型。\n",
    "有些dtype是可变的（flexible），这意味着虽然任何给定的数组必须具有固定的大小，但不同数组的dtype长度可能有所区别。\n",
    "\n",
    "创建数组时，自动选择的dtype始终是精度最大的那个元素的dtype。\n",
    "数据类型精度从小到大：布尔值、无符号整数、整数、浮点数、复数、字符串、对象。\n",
    "\n",
    "将dtype = <type>作为关键字参数传递给数组创建函数，可以强制数组使用给定的数据类型。此时数组的所有元素都会转换为指定的dtype，不再根据元素的精度来确定类型。\n",
    "可能会丢失信息（如浮点转换到整数）。\n",
    "大多数情况下最好提供显式的指定dtype，这样能够使代码更加可读。\n",
    "长度可变的数据类型，当使用字符代码时，字符代码之后会显示类型的长度"
   ],
   "metadata": {
    "collapsed": false
   }
  },
  {
   "cell_type": "code",
   "execution_count": null,
   "outputs": [],
   "source": [
    "# 指定数组类型\n",
    "a = np.array([6, 28.0, 496, 8128], dtype=np.int16)\n",
    "b = np.array([6, 28.0, 496, 8128], dtype='f')\n",
    "# 输出数组和dtype\n",
    "print(a, a.dtype)\n",
    "print(b, b.dtype)"
   ],
   "metadata": {
    "collapsed": false
   }
  },
  {
   "cell_type": "markdown",
   "source": [
    "## 9.3 切片和视图\n",
    "\n",
    "访问元素或子数组时，NumPy数组具有与Python列表相同的切片语义。\n",
    "\n",
    "**与Python切片的区别：**\n",
    "NumPy数组是N维的，可以沿任意的轴进行切片。\n",
    "在Python中，如果希望沿多个轴切片，必须为外部列表的切片中的每个元素创建内部列表然后再切片\n",
    "多维切片缺少某个切片，则会将该维的所有元素都包括在内。\n",
    "**注意：NumPy中行在列之前。**"
   ],
   "metadata": {
    "collapsed": false
   }
  },
  {
   "cell_type": "code",
   "execution_count": null,
   "outputs": [],
   "source": [
    "# 一维数组\n",
    "a = np.arange(8)\n",
    "print(a[::-1])\n",
    "print(a[2:6])\n",
    "print(a[1::3])\n",
    "# 多维数组对比\n",
    "outer1 = [[1, 2, 3, 4, 5], [2, 3, 4, 5, 6], [3, 4, 5, 6, 7]]\n",
    "sele1 = [inner[1:4] for inner in outer1[1:3]]  # 嵌套提取\n",
    "print(sele1)\n",
    "outer2 = np.array([[1, 2, 3, 4, 5], [2, 3, 4, 5, 6], [3, 4, 5, 6, 7]])\n",
    "sele2 = outer2[1:3, 1:4]  # 先外后内\n",
    "print(sele2)"
   ],
   "metadata": {
    "collapsed": false
   }
  },
  {
   "cell_type": "markdown",
   "source": [
    "**数组切片最重要的一个特性：切片是原始数组中的视图。**\n",
    "切片在内存中乐死指针的表现。\n",
    "切片总是用原始数组的元数据（shape、strides等）表示出来。\n",
    "切片不包含任何数组本身的数据，所以切片数组的base属性是原数组中数据的引用。\n",
    "**对切片的切片只想原数组。**\n",
    "\n",
    "对切片的操作会影响原数组。\n",
    "想获得一个数组的切片的副本，可以从切片创建一个新的数组：\n"
   ],
   "metadata": {
    "collapsed": false
   }
  },
  {
   "cell_type": "code",
   "execution_count": null,
   "outputs": [],
   "source": [
    "a = np.arange(6)\n",
    "print(\"原数据a：\", a)\n",
    "# 仅引用原数组的切片\n",
    "b = a[1::2]\n",
    "b[1] = 42\n",
    "print(\"修改b后的a：\", a)\n",
    "print(b.base is a)\n",
    "\n",
    "# 从切片创建新的数组\n",
    "c = np.array(a[1::2])\n",
    "c[1] = 4\n",
    "print(\"修改c后的a：\", a)\n",
    "print(c.base is a)"
   ],
   "metadata": {
    "collapsed": false
   }
  },
  {
   "cell_type": "markdown",
   "source": [
    "view()方法可用于获取整个数组的视图。\n",
    "**view()需要两个关键字参数：**\n",
    "dtype关键字参数用于在不复制数据的情况下将内存数据重新解释为另一种类型；\n",
    "type 参数表示返回数组的类型。\n"
   ],
   "metadata": {
    "collapsed": false
   }
  },
  {
   "cell_type": "code",
   "execution_count": null,
   "outputs": [],
   "source": [
    "a = np.arange(6, dtype=np.int64)\n",
    "print(a, a.dtype)\n",
    "b = a.view('i4') # 将int64数组视为int32数组，其元素数量会变成原来的两倍\n",
    "print(b, b.dtype)"
   ],
   "metadata": {
    "collapsed": false
   }
  },
  {
   "cell_type": "markdown",
   "source": [
    "## 9.4　算术和广播\n",
    "\n",
    "### 算术\n",
    "\n",
    "数组数据语言都有逐元素执行算术运算的能力，这样就能用简明的数学表达式来计算大量的数据。\n",
    "\n",
    "这种方式表达能力很强，但开销有点昂贵：\n",
    "其中的每个操作都要创建一个新数组，并且要遍历当中的所有元素。\n",
    "\n",
    "对于处理复杂表达式来说，NumPy并不是最有效的。因为NumPy不存储所执行操作的相关信息。\n",
    "\n",
    "可用numexpr包解决"
   ],
   "metadata": {
    "collapsed": false
   }
  },
  {
   "cell_type": "code",
   "execution_count": null,
   "outputs": [],
   "source": [
    "a = np.arange(6)\n",
    "print(a - 1)\n",
    "print(a + a)\n",
    "print(2*a**2 + 3*a + 1) # 对a**2创建了临时数组，但一次性使用"
   ],
   "metadata": {
    "collapsed": false
   }
  },
  {
   "cell_type": "markdown",
   "source": [
    "### 广播\n",
    "\n",
    "如导数：\n",
    "```python\n",
    "(y[1:] - y[:-1]) / (x[1:] - x[:-1])\n",
    "```\n",
    "将x和y中的点视为bin的边界，并返回中心点((x[1:] + x[: -1])/ 2)的导数。但这样有副作用，结果的长度会比原始数组的长度短1。\n",
    "使用NumPy的gradient()函数：\n",
    "```python\n",
    "np.gradient(y) / np.gradient(x)\n",
    "```\n",
    "\n",
    "对数组执行逐元素操作而不限于形状相同的标量和数组。NumPy能够将不同形状的数组一起广播（broadcast），只要它们的形状遵循一些简单的兼容性规则即可。\n",
    "\n",
    "**兼容规则：**\n",
    "·对于每个轴，维数相等（a.shape [i] == b.shape [i]），或者其中一个维数为1（a.shape [i] == 1或b.shape [i] == 1）。\n",
    "·一个数组的秩（维数）小于另一个（a.ndim <i或b.ndim <i）。\n",
    "\n",
    "两个数组中的两个轴的秩相等时，那么这两个数组之间的操作是逐元素计算的。\n",
    "类似之前看到的a + a。当数组a上的轴的长度为1且数组b上的相同轴的长度大于1时，a的值在该维度上沿着b虚拟地拉伸。此时b的每个元素都会看到a中用于处理的值。\n",
    "术语广播的来源：a中的一个元素接触到b中的所有元素。\n",
    "\n",
    "数组上的普通Python乘法（*）用广播规则实现。广播规则将较低维数据拉伸到刚好够执行操作的长度。\n",
    "当添加length-1的维度时，数组中的元素总数不会改变。这是广播的一个特别有用的功能。\n",
    "\n",
    "newaxis变量：用来在索引中添加长度为1的维度。这样无需显式地修改形状，降低了工作量。\n",
    "注意为增加维度而不是增加一列数据。\n",
    "NumPy数组有32个维度的限制。"
   ],
   "metadata": {
    "collapsed": false
   }
  },
  {
   "cell_type": "code",
   "execution_count": null,
   "outputs": [],
   "source": [
    "# 2×2的矩阵用广播乘法乘以2×1的向量\n",
    "a = np.arange(4)\n",
    "print(a)\n",
    "a.shape = (2, 2)\n",
    "print(a)\n",
    "b = np.array([[42], [43]])\n",
    "print(a * b)  # a的每一列都会逐元素乘以b中的值\n",
    "print(np.dot(a, b))  # 这个是点积"
   ],
   "metadata": {
    "collapsed": false
   }
  },
  {
   "cell_type": "code",
   "execution_count": null,
   "outputs": [],
   "source": [
    "# 广播不能超维度\n",
    "a = np.arange(12)\n",
    "a.shape = (4, 3)\n",
    "b = np.array([16, 17, 18])\n",
    "print(a + b)  # 正常广播，可行\n",
    "a.shape = (3, 4)\n",
    "# print(a + b)  # 广播超限，报错\n",
    "# 报错：ValueError: operands could not be broadcast together with shapes (3,4) (3,)\n",
    "\n",
    "b.shape = (3, 1)\n",
    "print(a + b)  # 可运行，因为有维度为1\n",
    "\n",
    "print(b[:, np.newaxis])  # 添加新轴"
   ],
   "metadata": {
    "collapsed": false
   }
  },
  {
   "cell_type": "code",
   "execution_count": null,
   "outputs": [],
   "source": [
    "# 添加轴的应用\n",
    "b = np.arange(10, 14)\n",
    "print(\"添加之前：\", b)\n",
    "print(\"添加之后：\", b[:, np.newaxis])  # 添加新轴\n",
    "\n",
    "# 32个轴的限制\n",
    "print(\"维度超限：\", b[(slice(None),) + 32 * (np.newaxis,)])\n",
    "# 报错：IndexError: number of dimensions must be within [0, 32], indexing result would have 33"
   ],
   "metadata": {
    "collapsed": false
   }
  },
  {
   "cell_type": "markdown",
   "source": [
    "## 9.5 花式索引\n",
    "\n",
    "**使用条件：获取任意索引的数据，或获取符合某种模式但不够规则的索引（如斐波那契数列）。**\n",
    "花式索引是通过整数数组或整数列表进行索引，而不是通过切片或newaxis索引。\n",
    "\n",
    "**特性：**\n",
    "可以提供任意索引。\n",
    "可以有重复的索引。\n",
    "索引可以无序。\n",
    "索引的形状不需要与数组的形状相匹配。\n",
    "索引的形状可能比数组的维数多或少。\n",
    "索引可以与切片无缝使用。\n",
    "\n",
    "缺点：需要将数据复制到一个新的内存块。\n",
    "花式索引与切片不同，一般不是原数组的视图。这是因为索引是任意值，所以没办法推断索引是否存在。\n",
    "\n",
    "不能在一个维度中混合使用切片和花式索引，因为用单个花式索引就能完全描述操作信息。\n",
    "即使其他维度使用的是切片，只要有一个值使用花式索引，那么整个结果都会成为副本。\n",
    "在条件允许的情况下最好总是使用切片，因为混合切片和花式索引会创建一个新的多维数组。\n",
    "\n",
    "还可以在多个维度中的每个维度上单独使用一维花式索引，然后将每个索引解释为该维度的坐标。"
   ],
   "metadata": {
    "collapsed": false
   }
  },
  {
   "cell_type": "code",
   "execution_count": null,
   "outputs": [],
   "source": [
    "# 花式索引的基本应用\n",
    "a = 2*np.arange(8)**2 + 1\n",
    "# pull out the fourth, last, and\n",
    "# second indices\n",
    "print(a[[3, -1, 1]])  # 花式索引的应用\n",
    "# pull out the Fibonacci sequence\n",
    "fib = np.array([0, 1, 1, 2, 3, 5])\n",
    "print(a[fib])\n",
    "# pull out a 2x2 array\n",
    "print(a[[[[2, 7], [4, 2]]]])"
   ],
   "metadata": {
    "collapsed": false
   }
  },
  {
   "cell_type": "code",
   "execution_count": null,
   "outputs": [],
   "source": [
    "# 花式索引和切片在不同维度的混用\n",
    "a = np.arange(16) - 8\n",
    "a.shape = (4, 4)\n",
    "\n",
    "# pull out the third, last, and\n",
    "# first columns\n",
    "print(a[:, [2, -1, 0]])\n",
    "\n",
    "# pull out a Fibonacci sequence of\n",
    "# rows for every other column, starting\n",
    "# from the back\n",
    "fib = np.array([0, 1, 1, 2, 3])\n",
    "print(a[fib, ::-2])"
   ],
   "metadata": {
    "collapsed": false
   }
  },
  {
   "cell_type": "code",
   "execution_count": null,
   "outputs": [],
   "source": [
    "# 将i或i的各个切片应用于a的每个轴\n",
    "print(\"数组a为：\\n\", a)\n",
    "i =  np.arange(4)\n",
    "print(a[i, i])\n",
    "# lower diagonal by subtracting one to\n",
    "# part of the range\n",
    "print(a[i[1:], i[1:] - 1])\n",
    "# upper diagonal by adding one to part\n",
    "# of the range\n",
    "print(a[i[:3], i[:3] + 1])\n",
    "# anti-diagonal by reversal\n",
    "print(a[i, i[::-1]])"
   ],
   "metadata": {
    "collapsed": false
   }
  },
  {
   "cell_type": "markdown",
   "source": [
    "## 9.6 掩模\n",
    "\n",
    "掩模许多方面都与花式索引相似，只是掩模必须是一个布尔数组。支持多维掩模。\n",
    "用于对其他形状相同或轴长度相同的数组进行索引。\n",
    "对数组使用掩模将复制数据，而不会生成一个视图。\n",
    "\n",
    "掩模中指定位置的值为True，那么结果就会显示出原数组中对应位置的值。\n",
    "如果值为False，就不会显示数据。\n",
    "\n",
    "在计算物理学中，用于选取问题中的一个区域，然后专门处理或是忽略掉这个区域"
   ],
   "metadata": {
    "collapsed": false
   }
  },
  {
   "cell_type": "code",
   "execution_count": null,
   "outputs": [],
   "source": [
    "# 掩模演示\n",
    "# create an array\n",
    "a = np.arange(9)\n",
    "a.shape = (3,3)\n",
    "print(\"原a：\\n\", a)\n",
    "# create an all True mask\n",
    "m = np.ones(3, dtype=bool)  # 使用dtype=bool来区分\n",
    "# take the diagonal\n",
    "print(\"a的掩模：\\n\", a[m, m])"
   ],
   "metadata": {
    "collapsed": false
   }
  },
  {
   "cell_type": "markdown",
   "source": [
    "掩模也可以是多维的。这种情况下，掩模逐元素来索引数组。\n",
    "掩模的结果通常是平坦的数组。\n",
    "可用于隐藏不好、不能接受、兴趣范围之外的数据。\n",
    "可通过条件实现掩模。\n",
    "掩模可以使用逻辑运算的按位运算。\n",
    "\n",
    "**NumPy按位运算符**\n",
    "\n",
    "|运算符 | 函数 | 描述|\n",
    "|---|---|---|\n",
    "| ~ | bitwise_not(x) | 非运算 |\n",
    "| \\| | bitwise_or(x, y) | 或运算 |\n",
    "| ^ | bitwise_xor(x, y) | 异或运算 |\n",
    "| & | bitwise_and(x, y) | 与运算 |\n",
    "\n",
    "可与NumPy的where()函数一起使用：接收一个布尔数组，返回一个花式索引组成的元组，用来表示掩模中为True的坐标。\n",
    "where()函数总是返回一个元组，所以可以在索引操作中使用。\n",
    "但并不推荐将where()的花式索引结果传递到索引操作中，否则速度慢且占用更多的内存。\n",
    "建议使用并以某种方式修改where()的结果。"
   ],
   "metadata": {
    "collapsed": false
   }
  },
  {
   "cell_type": "code",
   "execution_count": null,
   "outputs": [],
   "source": [
    "print(a < 5)  # 得到一个掩模\n",
    "m = (a >= 7)  # 创建并保存掩模\n",
    "print(a[m])\n",
    "print(a[a < 5])  # 从索引操作本身中生成掩模"
   ],
   "metadata": {
    "collapsed": false
   }
  },
  {
   "cell_type": "code",
   "execution_count": null,
   "outputs": [],
   "source": [
    "# where函数的使用\n",
    "print(np.where(a < 5))\n",
    "print(a[np.where(a >= 7)])\n",
    "\n",
    "# 修改where()的结果\n",
    "print(a[:, np.where(a < 2)[1]])"
   ],
   "metadata": {
    "collapsed": false
   }
  },
  {
   "cell_type": "markdown",
   "source": [
    "## 9.7 结构数组\n",
    "\n",
    "大多数现实世界的数据分析场景中，需要用到每一列都有名称的表，其中每列可以有自己的类型，在NumPy中称之为结构化数组或记录数组。\n",
    "NumPy与C或C ++中一样，将其视为由结构体组成的一维数组。\n",
    "\n",
    "可以用dtype()构造函数将dtypes组合在一起，以此来构造结构化数组。\n",
    "需要用2元组或3元组的列表作为参数，来描述表中的每一列。\n",
    "\n",
    "参数元组的形式：<code>(\" &lt; col name &gt; \", &lt; col dtype &gt;)</code>或<code>(\" &lt; col name &gt; \",  &lt; col dtype &gt; , &lt; num &gt; )</code>\n",
    "第一个元素是用字符串表示的列名。第二个元素是列的dtype，这个dtype也可以是另一个复合类型，因此子表也可以作为表的一部分。元组的第三个元素是可选的，是一个整数，用来表示列中应该含有的元素的数量。\n",
    "复合类型在本质上与SQL模式或CSV文件的标题行类似。\n",
    "\n"
   ],
   "metadata": {
    "collapsed": false
   }
  },
  {
   "cell_type": "code",
   "execution_count": 6,
   "outputs": [
    {
     "name": "stdout",
     "output_type": "stream",
     "text": [
      "fluid为： [('x', '<i4'), ('y', '<i8'), ('rho', '<f8'), ('vel', '<f8')]\n",
      "particles为： [('pos', [('x', '<i4'), ('y', '<i4'), ('z', '<i4')]), ('mass', '<f8'), ('vel', '<f4', (3,))]\n"
     ]
    }
   ],
   "source": [
    "fluid = np.dtype([\n",
    "    ('x', int),\n",
    "    ('y', np.int64),\n",
    "    ('rho', 'f8'),\n",
    "    ('vel', 'f8'),\n",
    "    ])\n",
    "print(\"fluid为：\", fluid)\n",
    "# a dtype with a nested dtype \n",
    "# and a subarray \n",
    "particles = np.dtype([\n",
    "    ('pos', [('x', int),\n",
    "    ('y', int),\n",
    "    ('z', int)]),\n",
    "    ('mass', float),\n",
    "    ('vel', 'f4', 3)\n",
    "    ])\n",
    "print(\"particles为：\", particles)"
   ],
   "metadata": {
    "collapsed": false,
    "ExecuteTime": {
     "end_time": "2023-07-12T04:24:26.140225500Z",
     "start_time": "2023-07-12T04:24:26.129875500Z"
    }
   }
  },
  {
   "cell_type": "markdown",
   "source": [
    "所有复合类型在底层都是实现为无类型的dtype，还有两个仅在复合类型中使用的dtype属性。\n",
    "**两个属性：**\n",
    "1.names：字符串元组，用于给出列名称及其顺序。重命名列名就能重置该属性。\n",
    "2.fields：这是一个类似dict的对象，用来将列名映射到dtype。fields中的值是只读的，确保了这种dtype是不可变的。\n",
    "\n",
    "### 修改\n",
    "注意：\n",
    "在某些情况下，例如arange()，传入dtype可能没有意义，这种情况下操作会失败。\n",
    "诸如zeros()、ones()、empty()的函数就可以获取所有数据类型。\n",
    "\n",
    "### 索引\n",
    "用结构化数组进行索引操作将获取其中某一行的数据，而用切片进行索引操作将返回这一行的切片。\n",
    "用字符串进行索引将返回名称与该字符串匹配的列。\n",
    "字符串列表作为索引将按指定的顺序获取多个列。要求是列表而不是元组以与普通的区分开。\n",
    "\n",
    "\n"
   ],
   "metadata": {
    "collapsed": false
   }
  },
  {
   "cell_type": "code",
   "execution_count": null,
   "outputs": [],
   "source": [
    "# names和fields的操作\n",
    "\n",
    "print(particles.names)\n",
    "print(fluid.fields)\n",
    "a1 = np.zeros(4, dtype=particles)  # 添加数据\n",
    "print(a1)"
   ],
   "metadata": {
    "collapsed": false
   }
  },
  {
   "cell_type": "code",
   "execution_count": null,
   "outputs": [],
   "source": [
    "# 添加数据\n",
    "f = np.array([(42, 43, 6.0, 2.1),\n",
    "              (65, 66, 128.0, 3.7),\n",
    "              (127, 128, 3.0, 1.5)],\n",
    "             dtype=fluid)\n",
    "\n",
    "# 索引示例\n",
    "print(f[1])\n",
    "print(f[::2])\n",
    "print(f['rho'])\n",
    "print(f[['vel', 'x', 'rho']])"
   ],
   "metadata": {
    "collapsed": false
   }
  },
  {
   "cell_type": "markdown",
   "source": [
    "## 9.8 通用函数\n",
    "\n",
    "通用函数（universal functions，ufuncs）：转换数组的接口。\n",
    "ufunc是一个特殊的可调用对象，实现了reduce()、reduceat()、outer()、accumulate()、at()方法，以及其他一些属性。\n",
    "NumPy中自带了ufuncs套件。\n",
    "\n",
    "并不是所有的ufuncs都能处理所有数组，有些ufuncs可能会改变所处理数组的形状或大小。ufuncs背后的思想是尽可能用通用的方法转换数据。\n",
    "ufunc只有在所尝试的操作是不合逻辑或不一致时才会失败。\n",
    "\n",
    "**重要的ufunc函数**\n",
    "\n",
    "|函数 | 描述|\n",
    "|---|---|\n",
    "|add(a, b) | 加法（+）|\n",
    "|subtract(a, b) | 减法（-）|\n",
    "|multiply(a, b) | 乘法（*）|\n",
    "|divide(a, b) | 除法（/）|\n",
    "|power(a, b) | 乘方（**）|\n",
    "|mod(a, b) | 取模（%）|\n",
    "|abs(a) | 绝对值|\n",
    "|sqrt(a) | 正数平方根|\n",
    "|conj(a) | 复数共轭|\n",
    "|exp(a) | 指数运算（ea）|\n",
    "|exp2(a) | 以2为底的指数运算（2a）|\n",
    "|log(a) | 自然对数|\n",
    "|log2(a) | 以2为底的对数|\n",
    "|log10(a) | 以10为底的对数|\n",
    "|sin(a) | 正弦|\n",
    "|cos(a) | 余弦|\n",
    "|tan(a) | 正切|\n",
    "|bitwise_or(a, b) | 按位或运算|\n",
    "|bitwise_xor(a, b) | 按位异或运算|\n",
    "|bitwise_and(a, b) | 按位与运算|\n",
    "|invert(a) | 按位取反（即~运算符）|\n",
    "|left_shift(a, b) | 向左按位移动（<<）|\n",
    "|right_shift(a, b) | 向右按位移动（>>）|\n",
    "|minimum(a, b) | 取最小（注意与np.min()不同）|\n",
    "|maximum(a, b) | 取最大（注意与np.max()不同）|\n",
    "|isreal(a) | 测试是否只有实数部分|\n",
    "|iscomplex(a) | 测试是否只有虚数部分|\n",
    "|isfinite(a) | 测试是否为有限值|\n",
    "|isinf(a) | 测试是否为无限值|\n",
    "|isnan(a) | 测试是否为数字|\n",
    "|floor(a) | 刚好小于当前数字的整数|\n",
    "|ceil(a) | 刚好大于当前数字的整数|\n",
    "|trunc(a) | 取整\n",
    "\n",
    "## 9.9 其它有用的函数\n",
    "\n",
    "在大多数情况下，看着这些函数名就能知道其用途。\n",
    "\n",
    "**一些重要的NumPy全局函数**\n",
    "\n",
    "| 函数 | 描述|\n",
    "|---|---|\n",
    "|sum(a) | 累加数组中的所有元素|\n",
    "|prod(a) | 累乘数组中的所有元素|\n",
    "|min(a) | 返回数组中最小的元素|\n",
    "|max(a) | 返回数组中最大的元素|\n",
    "|argmin(a) | 返回数组中最小元素的位置（即索引）|\n",
    "|argmax(a) | 返回数组中最大元素的位置（即索引）|\n",
    "|dot(a, b) | 计算两个数组的点积|\n",
    "|cross(a, b) | 计算两个数组的叉积|\n",
    "|einsum(subs, arrs) | 根据爱因斯坦求和约定按照上下标（subs）和数组列表进行计算|\n",
    "|mean(a) | 计算数组元素的中值|\n",
    "|median(a) | 计算数组元素的中位数|\n",
    "|average(a, weights=None) | 返回数组的加权平均数|\n",
    "|std(a) | 返回数组的标准差|\n",
    "|var(a) | 计算数组的方差|\n",
    "|unique(a) | 返回数组中只含有一个的元素|\n",
    "|asarray(a, dtype) | 将数组类型转为指定的dtype。如果已经是dtype了，那么就不会复制出新的数组|\n",
    "|atleast_1d(a) | 检查数组至少是一维的|\n",
    "|atleast_2d(a) | 检查数组至少是二维的|\n",
    "|atleast_3d(a) | 检查数组至少是三维的|\n",
    "|append(a, b) | 将两个数组连成一个新数组|\n",
    "|save(file, a) | 将数组保存到硬盘上|\n",
    "|load(file) | 从硬盘中载入数组|\n",
    "|memmap(file) | 从硬盘上延迟载入数组\n"
   ],
   "metadata": {
    "collapsed": false
   }
  }
 ],
 "metadata": {
  "kernelspec": {
   "display_name": "Python 3",
   "language": "python",
   "name": "python3"
  },
  "language_info": {
   "codemirror_mode": {
    "name": "ipython",
    "version": 2
   },
   "file_extension": ".py",
   "mimetype": "text/x-python",
   "name": "python",
   "nbconvert_exporter": "python",
   "pygments_lexer": "ipython2",
   "version": "2.7.6"
  }
 },
 "nbformat": 4,
 "nbformat_minor": 0
}
