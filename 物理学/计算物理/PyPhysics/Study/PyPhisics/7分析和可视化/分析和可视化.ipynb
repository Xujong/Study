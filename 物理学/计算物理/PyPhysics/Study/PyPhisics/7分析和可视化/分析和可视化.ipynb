{
 "cells": [
  {
   "cell_type": "markdown",
   "source": [
    "# 第7章 分析和可视化\n",
    "\n",
    "## 7.1 准备数据\n",
    "\n",
    "1.将数据转换为可供分析的格式\n",
    "（1）转成中间数据存储格式：CSV、HDF5、SQL、FITS、ENDF、ENSDF\n",
    "（2）转成易于访问的格式：NumPy数组、Pandas数据框等\n",
    "\n",
    "2.数据清理\n",
    "\n",
    "（1）处理缺失值，方法包括：\n",
    "    统计缺失数据的数量，分析影响\n",
    "    抛弃数据\n",
    "    用默认值（0,1，Inf）替代\n",
    "    插值填补\n",
    "\n",
    "（2）修复有问题的项\n",
    "    检测错误\n",
    "    对无序数据排序\n",
    "    标准化数据格式\n",
    "\n",
    "（3）处理样式问题\n",
    "    重命名较长或无关字段\n",
    "    重新格式化日期、时间、数字、字符串等内容\n",
    "\n",
    "（4）数据与元数据结合\n",
    "    根据额外数据生结果成表格\n",
    "    添加用于表示出处的识别数字和日期\n",
    "    将来自不同检测器的结果合并\n",
    "\n",
    "自动化处理数据的优点（也为实现目标）：\n",
    "    提高论文发表的速度\n",
    "    提高实验的可重现性\n",
    "\n",
    "### 实验数据\n",
    "\n",
    "实验数据根据特点选择存储格式。\n",
    "\n",
    "时间序列：CSV格式\n",
    "复杂的结构化数据：使用标准格式如：望远镜数据-FITS，核物理截面-ENDF\n",
    "\n",
    "### 模拟数据\n",
    "\n",
    "模拟相当于在计算机上进行的实验。与实验相比，控制程度\n",
    "\n",
    "元数据：关于数据的数据，如：\n",
    "·模拟ID号\n",
    "·运行模拟的日期\n",
    "·输入文件的名称和内容\n",
    "·所使用的库的版本号\n",
    "通常还需要和实验或模拟的数据库关联。\n",
    "应该具有与模拟或实验数据相同标准的格式化和重现能力。\n",
    "\n",
    "## 7.2 载入数据\n",
    "\n",
    "Python工具的选择：\n",
    "·数据大小\n",
    "·数据类型\n",
    "·数据组织结构\n",
    "\n",
    "常用的Python工具：\n",
    "\n",
    "**1.NumPy：数组形式。**\n",
    "可使用loadtxt函数将逗号、空格或制表符分隔的多列文本的纯文本文件直接加载到NumPy数组。"
   ],
   "metadata": {
    "collapsed": false
   }
  },
  {
   "cell_type": "code",
   "execution_count": null,
   "outputs": [],
   "source": [
    "# numpy加载和打印\n",
    "import numpy as np\n",
    "\n",
    "\n",
    "arr = np.loadtxt('example7-1.csv', delimiter=\",\", skiprows=1)  # 加载文件，指定分隔符、步长\n",
    "print(arr)"
   ],
   "metadata": {
    "collapsed": false
   }
  },
  {
   "cell_type": "markdown",
   "source": [
    "**2.PyTables：将HDF5转换为NumPy数组。**\n",
    "适用于存储和操作密集数组。\n",
    "\n",
    "HDF5（Hierarchical Data Format version 5）是一种存储相同类型数值的大数组的机制，适用于可被层次性组织且数据集需要被元数据标记的数据模型。\n",
    "HDF5以分层结构组织，其中包含两个主要结构：组和数据集。\n",
    "HDF5 group：分组结构包含零个或多个组或数据集的实例，以及支持元数据。\n",
    "HDF5 dataset：数据元素的多维数组，以及支持元数据。\n",
    "\n",
    "**3.Pandas：最易用的Python数据分析工具**\n",
    "可读取的常见数据格式：CSV, Excel, HDF, SQL, JSON, HTML, stata, clipboard, pickle等\n",
    "\n",
    "特性：加载后的数据可以转换格式。"
   ],
   "metadata": {
    "collapsed": false
   }
  },
  {
   "cell_type": "code",
   "execution_count": null,
   "outputs": [],
   "source": [
    "# Pandas加载数据\n",
    "import pandas as pd\n",
    "\n",
    "\n",
    "df = pd.read_csv('example7-1.csv')  # 加载数据\n",
    "df.to_hdf('result7-1.h5', 'experimental')  # 转换为HDF5，文件名result7-1，节点experimental\n",
    "\n",
    "print(df)"
   ],
   "metadata": {
    "collapsed": false
   }
  },
  {
   "cell_type": "markdown",
   "source": [
    "**4.Blaze：格式转换的Python工具。**\n",
    "\n",
    "仅支持Python 3.4<=version<=3.7.\n",
    "\n",
    "## 7.3 清理和改写数据\n",
    "\n",
    "数据改写：将数据从原始形式转换到另一种结构化形式。\n",
    "操作：分组、过滤、聚合、折叠、展开。\n",
    "通常用于处理有缺陷、缺失、无序的数据。\n",
    "\n",
    "数据的质量问题和不一致在科学中很常见\n",
    "\n",
    "### 数据缺失\n",
    "\n",
    "有时实验数据会缺失一部分，缺失的数据点可能是预料之内的。\n",
    "通常缺失值需要用默认值来替换，这时需要重新考虑默认值对结果的统计分析的影响，或者选择直接丢弃这些数据点。\n",
    "\n",
    "Pandas解决："
   ],
   "metadata": {
    "collapsed": false
   }
  },
  {
   "cell_type": "code",
   "execution_count": null,
   "outputs": [],
   "source": [
    "import pandas as pd\n",
    "\n",
    "\n",
    "df = pd.read_csv('example7-2.csv')  # 读取文件\n",
    "df.count()  # 数据框方法，计数时忽略NaN行\n",
    "df.dropna()  # 返回去除NaN后的数据"
   ],
   "metadata": {
    "collapsed": false
   }
  },
  {
   "cell_type": "markdown",
   "source": [
    "## 7.4 分析\n",
    "\n",
    "主要软件包：NumPy、SciPy、Pandas\n",
    "\n",
    "SciPy生态系统：\n",
    "**1．天文学和天体物理学。**\n",
    "Astropy：天文学和天体物理学的核心工具，含有FITS、ASCII、\n",
    "VOTable、XML文件的接口。\n",
    "PyRAF：基于Python的IRAF接口。\n",
    "SpacePy：用于空间科学的数据处理、分析、绘制工具。\n",
    "SunPy：太阳数据分析环境。\n",
    "**2．地球物理。**\n",
    "OSGeo：GIS数据导入、导出和分析。\n",
    "Basemap：二维绘图。\n",
    "**3．工程。**\n",
    "PyNE：核工程工具包。\n",
    "scikit-aero：Python航空工程计算包。\n",
    "**4．数学。**\n",
    "SymPy：Python数学符号包。\n",
    "**5．神经系统科学。**\n",
    "NIPY：神经影像。\n",
    "**6．量子物理和化学。**\n",
    "QuTiP：Python量子化学包，模拟动态开放的量子系统。\n",
    "PyQuante：Python量子化学处理包。\n",
    "\n",
    "物理学中的大部分分析，只要模型是基于实验数据衍生、确认或推断出来的，就将其称为推理或抽象。\n",
    "一般来说，方程两侧的模型和数据都能驱动分析过程。\n",
    "\n",
    "### 模型驱动\n",
    "\n",
    "建立物理过程的数学模型并进行分析。大多数分析都需要许多步骤来过滤和合并数据，还需要集成、插值、缩放等操作。\n",
    "可拟合参数，可利用模型直接进行预测。\n",
    "\n",
    "### 数据驱动\n",
    "\n",
    "使用各种算法和机器学习方法进行分析，通常用于从数据中推断出模型（而不是使用数据确认或拒绝模型）\n",
    "\n",
    "工具：\n",
    "**1．机器学习和聚类：** scikit-learn, PyBrain, Monte, PyPR, scipy-cluster。\n",
    "**2．统计：** Statsmodels, PyBayes。\n",
    "\n",
    "## 7.5 可视化\n",
    "\n",
    "科学可视化的目的：展示、说明和解释数据。\n",
    "可视化的基本原则：Python之禅。"
   ],
   "metadata": {
    "collapsed": false
   }
  },
  {
   "cell_type": "code",
   "execution_count": null,
   "outputs": [],
   "source": [
    "# 打印Python之禅\n",
    "import this"
   ],
   "metadata": {
    "collapsed": false
   }
  },
  {
   "cell_type": "markdown",
   "source": [
    "**科学可视化之禅：**\n",
    "美观胜于丑陋。\n",
    "简单胜于复杂。\n",
    "复杂胜于晦涩。\n",
    "简洁胜于繁杂。\n",
    "沟通胜于说服。\n",
    "文本不能分散注意力。\n",
    "人们不是虾蛄。（不要使用过于复杂的色彩）\n",
    "\n",
    "### 可视化工具\n",
    "\n",
    "Gnuplot：用于绘制简单的图表，语法有些古怪。\n",
    "matplotlib：Python中强大的绘制库，健壮且应用广泛。\n",
    "Bokeh：在Web上生成交互式图表，与matplotlib有接口。\n",
    "Inkscape：用于手工编辑可缩放的矢量图。\n",
    "\n",
    "### gnuplot\n",
    "\n",
    "并不是Python工具，是一个独立工具。\n",
    "可以使用gnuplot来启动gnuplot解释器。在该解释器中，可以输入命令来构建绘图。编写脚本就能重用代码，将脚本作为参数提供给gnuplot命令。\n",
    "\n",
    "```gnuplot\n",
    "set title 'Decays'  # 定义标题\n",
    "set ylabel 'Decays'  # 定义y坐标\n",
    "set xlabel 'Time'  # 定义x坐标\n",
    "set grid  # 打开网格\n",
    "set term png  # 输出文件设为svg格式\n",
    "set output 'plot_gnuplot.png'  # 输出文件的文件名\n",
    "plot 'example7-1.csv' every :: 1 using 1:2 with lines\n",
    "# 从输入文件接收数据，使用输入文件的1、2列中的数据，绘制除第一行之外的数据\n",
    "```\n",
    "脚本放在decay_plot.gnuplot的文件中，用<code>gnuplot decay_plot.gnuplot</code>命令运行。\n",
    "默认颜色为红色。\n",
    "\n",
    "### matplotlib\n",
    "\n",
    "matplotlib中能够设置大量的绘制类型和样式。\n",
    "\n",
    "主要使用画廊（gallery）有大量的示例图表和相关的源代码。\n",
    "画廊包含matplotlib的示例脚本。\n",
    "\n",
    "matplotlib还提供了一个与其他工具连接的框架。"
   ],
   "metadata": {
    "collapsed": false
   }
  },
  {
   "cell_type": "code",
   "execution_count": null,
   "outputs": [],
   "source": [
    "import numpy as np\n",
    "import pylab as plt\n",
    "\n",
    "data = np.loadtxt('example7-3.csv', delimiter=',', skiprows=1)  # 加载数据\n",
    "x = data[:,0]  # 提取x数据\n",
    "y = data[:,1]  # 提取y数据\n",
    "\n",
    "plt.plot(x, y)  # 画图\n",
    "\n",
    "plt.xlabel('data_x')  # x坐标轴命名\n",
    "plt.ylabel('data_y')  # y坐标轴命名\n",
    "plt.title('plotting')  # 设置标题\n",
    "plt.grid(True)  # 网格开启\n",
    "plt.savefig('result_matplotlib.png') # 保存文件"
   ],
   "metadata": {
    "collapsed": false
   }
  },
  {
   "cell_type": "markdown",
   "source": [
    "### Bokeh\n",
    "\n",
    "一个非常简单的兼容matplotlib API，可以生成适合于Web的交互图。\n",
    "目的是产生用于在浏览器中查看的交互式图表。\n",
    "\n",
    "可用于在网上发布的图表。但如果图表很复杂或准备打印，那么最好使用matplotlib或gnuplot。\n",
    "\n",
    "**figure-tools参数：**\n",
    "pan：允许通过鼠标拖动平移图形。\n",
    "box_zoom：允许使用鼠标框选区域进行缩放。\n",
    "wheel_zoom：允许使用鼠标滚轮进行缩放。\n",
    "reset：允许使用鼠标单击重置图形。\n",
    "save：允许使用鼠标单击保存图形。\n",
    "box_select：允许使用鼠标框选多个点进行选择。\n",
    "lasso_select：允许使用鼠标绘制多边形进行选择。\n",
    "preview：允许使用鼠标拖动预览图形。\n",
    "tap：允许使用鼠标单击选择单个点。\n",
    "crosshair：在图形中启用十字线，以帮助定位坐标轴上的位置。"
   ],
   "metadata": {
    "collapsed": false
   }
  },
  {
   "cell_type": "code",
   "execution_count": 5,
   "outputs": [
    {
     "ename": "KeyError",
     "evalue": "'legend'",
     "output_type": "error",
     "traceback": [
      "\u001B[1;31m---------------------------------------------------------------------------\u001B[0m",
      "\u001B[1;31mKeyError\u001B[0m                                  Traceback (most recent call last)",
      "Cell \u001B[1;32mIn[5], line 11\u001B[0m\n\u001B[0;32m      9\u001B[0m bp\u001B[38;5;241m.\u001B[39moutput_file(\u001B[38;5;124m\"\u001B[39m\u001B[38;5;124mresult_bokeh.html\u001B[39m\u001B[38;5;124m\"\u001B[39m, title\u001B[38;5;241m=\u001B[39m\u001B[38;5;124m\"\u001B[39m\u001B[38;5;124mBokeh Plotting\u001B[39m\u001B[38;5;124m\"\u001B[39m)\n\u001B[0;32m     10\u001B[0m fig \u001B[38;5;241m=\u001B[39m bp\u001B[38;5;241m.\u001B[39mfigure(tools\u001B[38;5;241m=\u001B[39m\u001B[38;5;124m\"\u001B[39m\u001B[38;5;124mpan,wheel_zoom,box_zoom,reset\u001B[39m\u001B[38;5;124m\"\u001B[39m) \u001B[38;5;66;03m# 设置一个图形\u001B[39;00m\n\u001B[1;32m---> 11\u001B[0m \u001B[43mfig\u001B[49m\u001B[38;5;241;43m.\u001B[39;49m\u001B[43mline\u001B[49m\u001B[43m(\u001B[49m\u001B[43mx\u001B[49m\u001B[43m,\u001B[49m\u001B[43m \u001B[49m\u001B[43my\u001B[49m\u001B[43m,\u001B[49m\u001B[43m \u001B[49m\u001B[43mx\u001B[49m\u001B[38;5;241;43m=\u001B[39;49m\u001B[38;5;124;43m\"\u001B[39;49m\u001B[38;5;124;43mDatax\u001B[39;49m\u001B[38;5;124;43m\"\u001B[39;49m\u001B[43m,\u001B[49m\u001B[43m \u001B[49m\u001B[43my\u001B[49m\u001B[38;5;241;43m=\u001B[39;49m\u001B[38;5;124;43m\"\u001B[39;49m\u001B[38;5;124;43mDatay\u001B[39;49m\u001B[38;5;124;43m\"\u001B[39;49m\u001B[43m,\u001B[49m\u001B[43mcolor\u001B[49m\u001B[38;5;241;43m=\u001B[39;49m\u001B[38;5;124;43m'\u001B[39;49m\u001B[38;5;124;43m#1F78B4\u001B[39;49m\u001B[38;5;124;43m'\u001B[39;49m\u001B[43m,\u001B[49m\u001B[43m \u001B[49m\u001B[43mlegend\u001B[49m\u001B[38;5;241;43m=\u001B[39;49m\u001B[38;5;124;43m'\u001B[39;49m\u001B[38;5;124;43mTime series\u001B[39;49m\u001B[38;5;124;43m'\u001B[39;49m\u001B[43m)\u001B[49m \u001B[38;5;66;03m# 画直线\u001B[39;00m\n\u001B[0;32m     12\u001B[0m \u001B[38;5;66;03m# line,包括下两个都是figure中的方法，要对figure对象使用\u001B[39;00m\n\u001B[0;32m     13\u001B[0m fig\u001B[38;5;241m.\u001B[39mcurplot()\u001B[38;5;241m.\u001B[39mtitle \u001B[38;5;241m=\u001B[39m \u001B[38;5;124m\"\u001B[39m\u001B[38;5;124mDecays\u001B[39m\u001B[38;5;124m\"\u001B[39m\n",
      "File \u001B[1;32mC:\\My Own\\Program\\Anaconda3\\envs\\PyPhysics\\lib\\site-packages\\bokeh\\plotting\\_decorators.py:87\u001B[0m, in \u001B[0;36mglyph_method.<locals>.decorator.<locals>.wrapped\u001B[1;34m(self, *args, **kwargs)\u001B[0m\n\u001B[0;32m     85\u001B[0m \u001B[38;5;28;01mif\u001B[39;00m \u001B[38;5;28mself\u001B[39m\u001B[38;5;241m.\u001B[39mcoordinates \u001B[38;5;129;01mis\u001B[39;00m \u001B[38;5;129;01mnot\u001B[39;00m \u001B[38;5;28;01mNone\u001B[39;00m:\n\u001B[0;32m     86\u001B[0m     kwargs\u001B[38;5;241m.\u001B[39msetdefault(\u001B[38;5;124m\"\u001B[39m\u001B[38;5;124mcoordinates\u001B[39m\u001B[38;5;124m\"\u001B[39m, \u001B[38;5;28mself\u001B[39m\u001B[38;5;241m.\u001B[39mcoordinates)\n\u001B[1;32m---> 87\u001B[0m \u001B[38;5;28;01mreturn\u001B[39;00m create_renderer(glyphclass, \u001B[38;5;28mself\u001B[39m\u001B[38;5;241m.\u001B[39mplot, \u001B[38;5;241m*\u001B[39m\u001B[38;5;241m*\u001B[39mkwargs)\n",
      "File \u001B[1;32mC:\\My Own\\Program\\Anaconda3\\envs\\PyPhysics\\lib\\site-packages\\bokeh\\plotting\\_renderer.py:133\u001B[0m, in \u001B[0;36mcreate_renderer\u001B[1;34m(glyphclass, plot, **kwargs)\u001B[0m\n\u001B[0;32m    127\u001B[0m plot\u001B[38;5;241m.\u001B[39mrenderers\u001B[38;5;241m.\u001B[39mappend(glyph_renderer)\n\u001B[0;32m    129\u001B[0m \u001B[38;5;28;01mif\u001B[39;00m legend_kwarg:\n\u001B[0;32m    130\u001B[0m     \u001B[38;5;66;03m# It must be after the renderer is added because\u001B[39;00m\n\u001B[0;32m    131\u001B[0m     \u001B[38;5;66;03m# if it creates a new `LegendItem`, the referenced\u001B[39;00m\n\u001B[0;32m    132\u001B[0m     \u001B[38;5;66;03m# renderer must already be present.\u001B[39;00m\n\u001B[1;32m--> 133\u001B[0m     \u001B[43mupdate_legend\u001B[49m\u001B[43m(\u001B[49m\u001B[43mplot\u001B[49m\u001B[43m,\u001B[49m\u001B[43m \u001B[49m\u001B[43mlegend_kwarg\u001B[49m\u001B[43m,\u001B[49m\u001B[43m \u001B[49m\u001B[43mglyph_renderer\u001B[49m\u001B[43m)\u001B[49m\n\u001B[0;32m    135\u001B[0m \u001B[38;5;28;01mreturn\u001B[39;00m glyph_renderer\n",
      "File \u001B[1;32mC:\\My Own\\Program\\Anaconda3\\envs\\PyPhysics\\lib\\site-packages\\bokeh\\plotting\\_legends.py:57\u001B[0m, in \u001B[0;36mupdate_legend\u001B[1;34m(plot, legend_kwarg, glyph_renderer)\u001B[0m\n\u001B[0;32m     54\u001B[0m legend \u001B[38;5;241m=\u001B[39m _get_or_create_legend(plot)\n\u001B[0;32m     55\u001B[0m kwarg, value \u001B[38;5;241m=\u001B[39m \u001B[38;5;28mlist\u001B[39m(legend_kwarg\u001B[38;5;241m.\u001B[39mitems())[\u001B[38;5;241m0\u001B[39m]\n\u001B[1;32m---> 57\u001B[0m \u001B[43m_LEGEND_KWARG_HANDLERS\u001B[49m\u001B[43m[\u001B[49m\u001B[43mkwarg\u001B[49m\u001B[43m]\u001B[49m(value, legend, glyph_renderer)\n",
      "\u001B[1;31mKeyError\u001B[0m: 'legend'"
     ]
    }
   ],
   "source": [
    "import numpy as np\n",
    "from bokeh import plotting as bp\n",
    "\n",
    "\n",
    "data = np.loadtxt('example7-3.csv', delimiter=',', skiprows=1)\n",
    "x = data[:,0]\n",
    "y = data[:,1]\n",
    "\n",
    "bp.output_file(\"result_bokeh.html\", title=\"Bokeh Plotting\")\n",
    "fig = bp.figure(tools=\"pan,wheel_zoom,box_zoom,reset\") # 设置一个图形\n",
    "fig.line(x, y, x=\"Datax\", y=\"Datay\",color='#1F78B4', legend='Time series') # 画直线\n",
    "# line,包括下两个都是figure中的方法，要对figure对象使用\n",
    "fig.curplot().title = \"Decays\"\n",
    "fig.grid().grid_line_alpha=0.3\n",
    "bp.show(fig)"
   ],
   "metadata": {
    "collapsed": false,
    "ExecuteTime": {
     "end_time": "2023-06-19T01:46:49.946352600Z",
     "start_time": "2023-06-19T01:46:49.801174700Z"
    }
   }
  },
  {
   "cell_type": "markdown",
   "source": [
    "### Inkscape\n",
    "\n",
    "快速调整图像，编辑、裁剪、注释或以其他方式处理已经存在的图像文件。\n",
    "是一个开源项目，用于生成和编辑可缩放矢量图形。\n",
    "操作很难自动化，因为这是一个依靠图形用户界面来手动操作图形的工具。"
   ],
   "metadata": {
    "collapsed": false
   }
  }
 ],
 "metadata": {
  "kernelspec": {
   "display_name": "Python 3",
   "language": "python",
   "name": "python3"
  },
  "language_info": {
   "codemirror_mode": {
    "name": "ipython",
    "version": 2
   },
   "file_extension": ".py",
   "mimetype": "text/x-python",
   "name": "python",
   "nbconvert_exporter": "python",
   "pygments_lexer": "ipython2",
   "version": "2.7.6"
  }
 },
 "nbformat": 4,
 "nbformat_minor": 0
}
