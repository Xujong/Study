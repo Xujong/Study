{
 "cells": [
  {
   "cell_type": "code",
   "execution_count": null,
   "metadata": {
    "collapsed": true
   },
   "outputs": [],
   "source": [
    "# MPI的基础方法\n",
    "# 导入MPI和辅助函数\n",
    "from mpi4py import MPI  # MPI主模块\n",
    "from mpi4py.MPI import COMM_WORLD  # COMM_WORLD通信器\n",
    "from types import FunctionType  # 用于实现MPI进程池\n",
    "\n",
    "\n",
    "class Pool(object):  # MPI进程池\n",
    "    def __init__(self):\n",
    "        self.f = None  # 对执行函数的引用，进程池开始时没有函数\n",
    "        self.P = COMM_WORLD.Get_size()  # 处理器的总数\n",
    "        self.rank = COMM_WORLD.Get_rank()  # 所位于的处理器\n",
    "\n",
    "\n",
    "    def wait(self):  # 当进程池没有任务时接收数据的方法\n",
    "        if self.rank == 0:  # 主进程不能等待\n",
    "            raise RuntimeError(\"Proc 0 cannot wait!\")\n",
    "        status = MPI.Status()\n",
    "        while True:\n",
    "            task = COMM_WORLD.recv(source=0, tag=MPI.ANY_TAG, status=status)  # 从主进程接收新任务\n",
    "            if not task:\n",
    "                break  # 无新任务，不再接收\n",
    "            if isinstance(task, FunctionType):  # 如果任务是一个函数，将其放在对象上，然后继续等待\n",
    "                self.f = task\n",
    "                continue\n",
    "            result = self.f(task)  # 调用此任务上的函数并发送回结果\n",
    "            COMM_WORLD.isend(result, dest=0, tag=status.tag)\n",
    "\n",
    "\n",
    "    def map(self, f, tasks):  # map()方法\n",
    "        N = len(tasks)  # 任务数\n",
    "        P = self.P  # 处理器数\n",
    "        Pless1 = P - 1  # 留一个处理器用于调度\n",
    "        if self.rank != 0:  # 让worker等待主进程发出任务\n",
    "            self.wait()\n",
    "            return\n",
    "\n",
    "        if f is not self.f:\n",
    "            self.f = f\n",
    "            requests = []\n",
    "            for p in range(1, self.P):  # 发送所有worker的函数\n",
    "                r = COMM_WORLD.isend(f, dest=p)\n",
    "                requests.append(r)\n",
    "            MPI.Request.waitall(requests)\n",
    "\n",
    "        requests = []\n",
    "        for i, task in enumerate(tasks):  # 将任务平均分配给所有worker\n",
    "            r = COMM_WORLD.isend(task, dest=(i%Pless1)+1, tag=i)\n",
    "            requests.append(r)\n",
    "        MPI.Request.waitall(requests)\n",
    "\n",
    "        results = []\n",
    "        for i in range(N):  # 等待worker返回结果\n",
    "            result = COMM_WORLD.recv(source=(i%Pless1)+1, tag=i)\n",
    "            results.append(result)\n",
    "        return results\n",
    "\n",
    "\n",
    "    def __del__(self):\n",
    "        if self.rank == 0:\n",
    "            for p in range(1, self.P):  # 当进程池关闭时，关闭所有worker\n",
    "                COMM_WORLD.isend(False, dest=p)"
   ]
  },
  {
   "cell_type": "markdown",
   "source": [
    "函数自行调度，map()为主要应用方法。"
   ],
   "metadata": {
    "collapsed": false
   }
  }
 ],
 "metadata": {
  "kernelspec": {
   "display_name": "Python 3",
   "language": "python",
   "name": "python3"
  },
  "language_info": {
   "codemirror_mode": {
    "name": "ipython",
    "version": 2
   },
   "file_extension": ".py",
   "mimetype": "text/x-python",
   "name": "python",
   "nbconvert_exporter": "python",
   "pygments_lexer": "ipython2",
   "version": "2.7.6"
  }
 },
 "nbformat": 4,
 "nbformat_minor": 0
}
