{
 "cells": [
  {
   "cell_type": "markdown",
   "source": [
    "## C语言\n",
    "\n",
    "使用Python的ctypes模块将C语言程序用Python封装。该模块允许Python代码调用C语言函数，并且可以在Python中定义C语言的数据类型。\n",
    "\n",
    "以下是具体的步骤：\n",
    "\n",
    "1.编写C语言程序：首先，将C语言程序编写完成，并将其编译为共享库文件（.so文件）或动态链接库文件（.dll文件），以便在Python中调用。\n",
    "2.导入ctypes模块：在Python代码中，首先需要导入ctypes模块。\n",
    "3.加载共享库文件：使用ctypes的cdll或WinDLL方法，加载共享库文件。定义C语言函数的参数和返回值类型：通过设置函数的参数类型和返回值类型，便于Python正确调用C语言函数。\n",
    "4.调用C语言函数：通过ctypes的call方法，调用C语言函数。"
   ],
   "metadata": {
    "collapsed": false
   }
  },
  {
   "cell_type": "code",
   "execution_count": null,
   "metadata": {
    "collapsed": true
   },
   "outputs": [],
   "source": [
    "import ctypes\n",
    "\n",
    "\n",
    "# 加载共享库文件\n",
    "lib = ctypes.CDLL(\"example.so\")  # example.so是C语言程序编译生成的共享库文件名，根据实际情况进行修改\n",
    "\n",
    "# 设置参数类型\n",
    "# 假设C语言函数的原型为：int add(int a, int b);\n",
    "lib.add.argtypes = [ctypes.c_int, ctypes.c_int]  # 参数类型\n",
    "lib.add.restype = ctypes.c_int  # 返回值类型\n",
    "\n",
    "# 调用\n",
    "result = lib.add(2, 3)  # 调用add函数，并传入两个参数\n",
    "print(result)  # 输出结果"
   ]
  },
  {
   "cell_type": "markdown",
   "source": [
    "## C++语言\n",
    "\n",
    "将C++语言程序用Python封装，可以使用Python的ctypes模块结合C++的extern \"C\"语法和编译选项进行封装。\n",
    "\n",
    "下面是具体的步骤：\n",
    "\n",
    "1.编写C++语言程序：首先，将C++语言程序编写完成，并将其编译为共享库文件（.so文件）或动态链接库文件（.dll文件），以便在Python中调用。\n",
    "2.在C++代码中使用extern \"C\"语法：为了能够在Python中正确调用C++函数，需要使用extern \"C\"语法将C++函数声明为C语言函数，以确保C++函数使用C语言的调用约定。\n",
    "\n",
    "```\n",
    "extern \"C\" {\n",
    "    int add(int a, int b) {\n",
    "        // C++函数的实现\n",
    "        return a + b;\n",
    "    }\n",
    "}\n",
    "```\n",
    "\n",
    "3.编译C++程序：在编译C++程序时，需要加上适合的编译选项，如-shared选项生成共享库文件。\n",
    "<code>g++ -shared -o libexample.so example.cpp</code>\n",
    "4.导入ctypes模块：在Python代码中，首先需要导入ctypes模块。\n",
    "5.加载共享库文件：使用ctypes的cdll或WinDLL方法，加载共享库文件。\n",
    "6.定义C++函数的参数和返回值类型：通过设置函数的参数类型和返回值类型，便于Python正确调用C++函数。\n",
    "7.调用C++函数：通过ctypes的call方法，调用C++函数。\n",
    "\n",
    "**实际上还是使用C语言的方法。**"
   ],
   "metadata": {
    "collapsed": false
   }
  },
  {
   "cell_type": "markdown",
   "source": [],
   "metadata": {
    "collapsed": false
   }
  }
 ],
 "metadata": {
  "kernelspec": {
   "display_name": "Python 3",
   "language": "python",
   "name": "python3"
  },
  "language_info": {
   "codemirror_mode": {
    "name": "ipython",
    "version": 2
   },
   "file_extension": ".py",
   "mimetype": "text/x-python",
   "name": "python",
   "nbconvert_exporter": "python",
   "pygments_lexer": "ipython2",
   "version": "2.7.6"
  }
 },
 "nbformat": 4,
 "nbformat_minor": 0
}
